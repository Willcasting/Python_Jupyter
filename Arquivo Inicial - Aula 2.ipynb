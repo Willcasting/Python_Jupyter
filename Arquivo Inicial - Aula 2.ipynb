{
 "cells": [
  {
   "cell_type": "markdown",
   "metadata": {},
   "source": [
    "# Análise de Dados com Python\n",
    "\n",
    "### Desafio:\n",
    "\n",
    "Você trabalha em uma empresa de telecom e tem clientes de vários serviços diferentes, entre os principais: internet e telefone.\n",
    "\n",
    "O problema é que, analisando o histórico dos clientes dos últimos anos, você percebeu que a empresa está com Churn de mais de 26% dos clientes.\n",
    "\n",
    "Isso representa uma perda de milhões para a empresa.\n",
    "\n",
    "O que a empresa precisa fazer para resolver isso?\n",
    "\n",
    "Base de Dados: https://drive.google.com/drive/folders/1T7D0BlWkNuy_MDpUHuBG44kT80EmRYIs?usp=sharing <br>\n",
    "Link Original do Kaggle: https://www.kaggle.com/radmirzosimov/telecom-users-dataset"
   ]
  },
  {
   "cell_type": "markdown",
   "metadata": {},
   "source": [
    "- Passo 1: Importar a base de dados\n",
    "- Passo 2: Visualizar a base de dados\n",
    "    - Entender as informações disponpiveis\n",
    "    - Descobrir os problemas da base de dados\n",
    "- Passo 3: Tratamento da base de dados\n",
    "    - Valores que são numeros e estão conhecidos como texto\n",
    "    - Valores nullos\n",
    "- Passo 4: Análise inicial (Análise Exploratória) -> ver como estão os cancelamentos\n",
    "- Passo 5: Olhar cada caracteristica do cliente e ver como aquela caracterìstica impact no cancelamento\n"
   ]
  },
  {
   "cell_type": "code",
   "execution_count": null,
   "metadata": {},
   "outputs": [],
   "source": [
    "#Passo 1\n",
    "import pandas as pd\n",
    "tabela = pd.read_csv('telecom_users.csv')\n",
    "\n",
    "#Passo 2\n",
    "display(tabela)"
   ]
  },
  {
   "cell_type": "code",
   "execution_count": null,
   "metadata": {},
   "outputs": [],
   "source": [
    "# Passo 3- cagadas\n",
    "# Coluna Unnamed sem necessidade\n",
    "\n",
    "tabela = tabela.drop('Unnamed: 0', axis=1)\n",
    "display(tabela)"
   ]
  },
  {
   "cell_type": "code",
   "execution_count": 9,
   "metadata": {},
   "outputs": [
    {
     "name": "stdout",
     "output_type": "stream",
     "text": [
      "<class 'pandas.core.frame.DataFrame'>\n",
      "Int64Index: 5974 entries, 0 to 5985\n",
      "Data columns (total 21 columns):\n",
      " #   Column                  Non-Null Count  Dtype  \n",
      "---  ------                  --------------  -----  \n",
      " 0   IDCliente               5974 non-null   object \n",
      " 1   Genero                  5974 non-null   object \n",
      " 2   Aposentado              5974 non-null   int64  \n",
      " 3   Casado                  5974 non-null   object \n",
      " 4   Dependentes             5974 non-null   object \n",
      " 5   MesesComoCliente        5974 non-null   int64  \n",
      " 6   ServicoTelefone         5974 non-null   object \n",
      " 7   MultiplasLinhas         5974 non-null   object \n",
      " 8   ServicoInternet         5974 non-null   object \n",
      " 9   ServicoSegurancaOnline  5974 non-null   object \n",
      " 10  ServicoBackupOnline     5974 non-null   object \n",
      " 11  ProtecaoEquipamento     5974 non-null   object \n",
      " 12  ServicoSuporteTecnico   5974 non-null   object \n",
      " 13  ServicoStreamingTV      5974 non-null   object \n",
      " 14  ServicoFilmes           5974 non-null   object \n",
      " 15  TipoContrato            5974 non-null   object \n",
      " 16  FaturaDigital           5974 non-null   object \n",
      " 17  FormaPagamento          5974 non-null   object \n",
      " 18  ValorMensal             5974 non-null   float64\n",
      " 19  TotalGasto              5974 non-null   float64\n",
      " 20  Churn                   5974 non-null   object \n",
      "dtypes: float64(2), int64(2), object(17)\n",
      "memory usage: 1.0+ MB\n",
      "None\n",
      "<class 'pandas.core.frame.DataFrame'>\n",
      "Int64Index: 5974 entries, 0 to 5985\n",
      "Data columns (total 21 columns):\n",
      " #   Column                  Non-Null Count  Dtype  \n",
      "---  ------                  --------------  -----  \n",
      " 0   IDCliente               5974 non-null   object \n",
      " 1   Genero                  5974 non-null   object \n",
      " 2   Aposentado              5974 non-null   int64  \n",
      " 3   Casado                  5974 non-null   object \n",
      " 4   Dependentes             5974 non-null   object \n",
      " 5   MesesComoCliente        5974 non-null   int64  \n",
      " 6   ServicoTelefone         5974 non-null   object \n",
      " 7   MultiplasLinhas         5974 non-null   object \n",
      " 8   ServicoInternet         5974 non-null   object \n",
      " 9   ServicoSegurancaOnline  5974 non-null   object \n",
      " 10  ServicoBackupOnline     5974 non-null   object \n",
      " 11  ProtecaoEquipamento     5974 non-null   object \n",
      " 12  ServicoSuporteTecnico   5974 non-null   object \n",
      " 13  ServicoStreamingTV      5974 non-null   object \n",
      " 14  ServicoFilmes           5974 non-null   object \n",
      " 15  TipoContrato            5974 non-null   object \n",
      " 16  FaturaDigital           5974 non-null   object \n",
      " 17  FormaPagamento          5974 non-null   object \n",
      " 18  ValorMensal             5974 non-null   float64\n",
      " 19  TotalGasto              5974 non-null   float64\n",
      " 20  Churn                   5974 non-null   object \n",
      "dtypes: float64(2), int64(2), object(17)\n",
      "memory usage: 1.0+ MB\n",
      "None\n"
     ]
    }
   ],
   "source": [
    "# Ver se tem colunas que era para ser numero e reconhecido como texto\n",
    "print(tabela.info()) #exibe informações da base de dados\n",
    "tabela['TotalGasto'] = pd.to_numeric(tabela['TotalGasto'], errors=\"coerce\")\n",
    "\n",
    "\n",
    "# Coluna codigo com valores NAN\n",
    "tabela = tabela.dropna(how='all' , axis=1) #remove colunas com todos os arquivos vazios\n",
    "\n",
    "# Colunas e linhas vazias\n",
    "tabela = tabela.dropna(how='any' , axis=0) #remove linhas com pelo menos algum valor vazio\n",
    "\n",
    "print(tabela.info())\n"
   ]
  },
  {
   "cell_type": "code",
   "execution_count": 14,
   "metadata": {},
   "outputs": [
    {
     "data": {
      "text/plain": [
       "Nao    4387\n",
       "Sim    1587\n",
       "Name: Churn, dtype: int64"
      ]
     },
     "metadata": {},
     "output_type": "display_data"
    },
    {
     "data": {
      "text/plain": [
       "Nao    0.734349\n",
       "Sim    0.265651\n",
       "Name: Churn, dtype: float64"
      ]
     },
     "metadata": {},
     "output_type": "display_data"
    }
   ],
   "source": [
    "# Passo 4 - Como estão nosso cancelamentos\n",
    "display(tabela['Churn'].value_counts()) #exibe a soma de valores na coluna Churn\n",
    "display(tabela['Churn'].value_counts(normalize=True)) #exibe em porcentagem"
   ]
  },
  {
   "cell_type": "markdown",
   "metadata": {},
   "source": [
    "### Conclusões e Ações"
   ]
  },
  {
   "cell_type": "markdown",
   "metadata": {},
   "source": [
    "Escreva aqui suas conclusões:"
   ]
  }
 ],
 "metadata": {
  "kernelspec": {
   "display_name": "Python 3",
   "language": "python",
   "name": "python3"
  },
  "language_info": {
   "codemirror_mode": {
    "name": "ipython",
    "version": 3
   },
   "file_extension": ".py",
   "mimetype": "text/x-python",
   "name": "python",
   "nbconvert_exporter": "python",
   "pygments_lexer": "ipython3",
   "version": "3.8.8"
  }
 },
 "nbformat": 4,
 "nbformat_minor": 4
}
